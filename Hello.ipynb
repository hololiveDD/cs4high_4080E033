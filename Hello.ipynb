{
  "nbformat": 4,
  "nbformat_minor": 0,
  "metadata": {
    "colab": {
      "name": "Hello.ipynb",
      "version": "0.3.2",
      "provenance": [],
      "include_colab_link": true
    },
    "kernelspec": {
      "name": "python3",
      "display_name": "Python 3"
    }
  },
  "cells": [
    {
      "cell_type": "markdown",
      "metadata": {
        "id": "view-in-github",
        "colab_type": "text"
      },
      "source": [
        "<a href=\"https://colab.research.google.com/github/zero0926/cs4high_4080E033/blob/master/Hello.ipynb\" target=\"_parent\"><img src=\"https://colab.research.google.com/assets/colab-badge.svg\" alt=\"Open In Colab\"/></a>"
      ]
    },
    {
      "cell_type": "code",
      "metadata": {
        "id": "ipd9_PW7mP4L",
        "colab_type": "code",
        "outputId": "0256e0a7-060e-42f8-b593-45aea01f3a69",
        "colab": {
          "base_uri": "https://localhost:8080/",
          "height": 34
        }
      },
      "source": [
        "print(\"Hello, Mydeargreatteacher!\")\n",
        "print(\"                               *                           \")\n",
        "print(\"                              ***                          \")\n",
        "print(\"                          ***********                      \")\n",
        "print(\"                            *******                        \")\n",
        "print(\"                            *******                        \")\n",
        "print(\"                           **  *  **                       \")\n",
        "print(\"                              ***                          \")\n",
        "print(\"                             *****                         \")\n",
        "print(\"                            *******                        \")\n",
        "print(\"                           *********                       \")\n",
        "print(\"                          ***********                      \")\n",
        "print(\"                         *************                     \")\n",
        "print(\"                          ***********                      \")\n",
        "print(\"                         *************                     \")\n",
        "print(\"                        ***************                    \")\n",
        "print(\"                       *****************                   \")\n",
        "print(\"                      *******************                  \")\n",
        "print(\"                        ***************                    \")\n",
        "print(\"                       *****************                   \")\n",
        "print(\"                      *******************                  \")\n",
        "print(\"                     *********************                 \")\n",
        "print(\"                    ***********************                \")\n",
        "print(\"                   *************************               \")\n",
        "print(\"                  ***************************              \")\n",
        "print(\"                            ********                       \")\n",
        "print(\"                            ********                       \")\n",
        "print(\"                            ********                       \")\n",
        "print(\"                            ********                       \")\n",
        "print(\"                            ********                       \")\n",
        "print(\"                            ********                       \")\n",
        "print(\"                            ********                       \")"
      ],
      "execution_count": 0,
      "outputs": [
        {
          "output_type": "stream",
          "text": [
            "Hello, Mydeargreatteacher!\n"
          ],
          "name": "stdout"
        }
      ]
    }
  ]
}